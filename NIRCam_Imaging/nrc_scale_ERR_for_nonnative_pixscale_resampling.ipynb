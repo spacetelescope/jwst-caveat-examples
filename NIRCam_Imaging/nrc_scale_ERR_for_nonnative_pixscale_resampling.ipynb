{
 "cells": [
  {
   "cell_type": "markdown",
   "id": "095a295c",
   "metadata": {},
   "source": [
    "<img style=\"float: center;\" src='https://github.com/spacetelescope/jwst-pipeline-notebooks/raw/main/_static/stsci_header.png' alt=\"stsci_logo\" width=\"900px\"/> "
   ]
  },
  {
   "cell_type": "markdown",
   "id": "0393e357-9d9d-4516-b28d-4d335fad33a0",
   "metadata": {},
   "source": [
    "#  NIRCam Imaging - Rescale ERR extension values in data resampled to non-native pixel scales\n",
    "\n",
    "**Authors**: B. Hilbert, based on the NIRISS imaging pipeline notebook by R. Diaz, with contributions from from Hayley Williams<br>\n",
    "**Last Updated**: October 7, 2024<br>\n",
    "**Pipeline Version**: 1.15.1 (Build 11.0)"
   ]
  },
  {
   "cell_type": "markdown",
   "id": "7da2029f",
   "metadata": {},
   "source": [
    "**Purpose**:\n",
    "\n",
    "This notebook shows how to make an important correction to photometric uncertainty values when\n",
    "working with NIRCam Imaging data. The correction is only necessary when performing photometry\n",
    "on an `i2d` file **in cases where the output image has been resampled to a non-native pixel scale**.\n",
    "\n",
    "<div class=\"alert alert-block alert-warning\">\n",
    "    Note that default pipeline products from MAST are <b>not affected</b>, as they are always resampled\n",
    "    to the native detector pixel scale. But for now, these scaling factors would need to be applied when\n",
    "    doing photometry with ERR values from images resampled to different pixel scales, when running the pipeline independently.\n",
    "</div>\n",
    "\n",
    "This issue arises when trying to interpret the surface brightness units for the ERR array when\n",
    "calculating the photometric uncertainty of a source. \n",
    "\n",
    "In the `i2d` file, the science (SCI) array, as well as the error (ERR) array, are in units of\n",
    "surface brightness (MJy/sr). The output pixels effectively provide sampling points of these values\n",
    "across the sky. These surface brightness values should remain invariant with output pixel scale.\n",
    "\n",
    "However, when performing photometry on a source and using the ERR array, we see that the photometric\n",
    "uncertainty values **do** change with the output pixel scale. The photometric uncertainty is calculated\n",
    "by summing the ERR values in quadrature. This leads to different behavior than flux density surface\n",
    "brightness (i.e. the SCI array), which remains the same regardless of pixel scale. When doing photometry,\n",
    "the ERR values need to have a factor applied corresponding to the ratio of the resampled pixel scale relative to the\n",
    "native pixel scale of the NIRCam detectors. For example, NIRCam SW data (native detector pixel\n",
    "scale ~31.5mas) resampled to pixel scales of 30mas or 60mas need to have their ERR values scaled\n",
    "by factors of (31.5/30mas) and (31.5/60mas) respectively. Similarly, NIRCam LW data (native detector\n",
    "pixel scale ~63mas) resampled to pixel scales of 30mas or 60mas need to have their ERR values scaled\n",
    "by factors of (63/30mas) and (63/60mas) respectively.\n",
    "\n",
    "Discussions are in progress about possibly revising the definition of ERR values to avoid this behavior in future.\n",
    "\n",
    "\n",
    "**Data**:\n",
    "This example is set up to use an example dataset from\n",
    "[Program ID](https://www.stsci.edu/jwst/science-execution/program-information)\n",
    "2739 (PI: Pontoppidan) which is a Cycle 1 Outreach program. \n",
    "We focus on two pointings from Observation 002, in which M-16, or the\n",
    "\"Pillars of Creation\" were observed.\n",
    "\n",
    "Example input data to use will be downloaded as part of running this notebook.\n",
    "\n",
    "**JWST pipeline version and CRDS context** This notebook was written for the\n",
    "calibration pipeline version given above. It sets the CRDS context\n",
    "to use the most recent version available in the JWST Calibration\n",
    "Reference Data System (CRDS). If you use different pipeline versions or\n",
    "CRDS context, please read the relevant release notes\n",
    "([here for pipeline](https://github.com/spacetelescope/jwst),\n",
    "[here for CRDS](https://jwst-crds.stsci.edu/)) for possibly relevant\n",
    "changes.<BR>\n",
    "\n",
    "**Recent Changes**:<br>\n",
    "Oct 7, 2024: original notebook created<br>"
   ]
  },
  {
   "cell_type": "markdown",
   "id": "5291c2f1",
   "metadata": {
    "jp-MarkdownHeadingCollapsed": true
   },
   "source": [
    "\n",
    "## Table of Contents\n",
    "1. [Configuration](#Configuration) \n",
    "2. [Package Imports](#Package-Imports)\n",
    "3. [Convenience Functions](#Convenience-Functions)\n",
    "4. [Download Data](#Download-Data)\n",
    "5. [Image3 Pipeline](#Image3-Pipeline)\n",
    "6. [Examine the Mosaics](#Examine-the-Mosaics)\n",
    "7. [Run Photometry](#Run-Photometry)\n",
    "8. [Correct the ERR values](#Correct-the-ERR-values)\n"
   ]
  },
  {
   "cell_type": "markdown",
   "id": "43bd07d7",
   "metadata": {},
   "source": [
    "## Configuration"
   ]
  },
  {
   "cell_type": "markdown",
   "id": "6d5fe58d-f3c5-4aec-8e14-5323eaf786bd",
   "metadata": {},
   "source": [
    "------------------\n",
    "Set basic configuration for runing notebook. "
   ]
  },
  {
   "cell_type": "markdown",
   "id": "026a649d-a0d2-4e3f-ab6d-cf8c26e6ce1d",
   "metadata": {},
   "source": [
    "#### Install dependencies and parameters"
   ]
  },
  {
   "cell_type": "markdown",
   "id": "fe5c4ca9",
   "metadata": {},
   "source": [
    "To make sure that the pipeline version is compatabile with the steps\n",
    "discussed below and the required dependencies and packages are installed,\n",
    " you can create a fresh conda environment and install the provided\n",
    "`requirements.txt` file:\n",
    "```\n",
    "conda create -n err_scaling python=3.11\n",
    "conda activate err_scaling\n",
    "pip install -r requirements.txt\n",
    "```"
   ]
  },
  {
   "cell_type": "code",
   "execution_count": null,
   "id": "06ea414c",
   "metadata": {},
   "outputs": [],
   "source": [
    "# Basic import necessary for configuration\n",
    "import os"
   ]
  },
  {
   "cell_type": "markdown",
   "id": "1070079a",
   "metadata": {},
   "source": [
    "### Set CRDS context and server\n",
    "Before importing <code>CRDS</code> and <code>JWST</code> modules, we need\n",
    "to configure our environment. This includes defining a CRDS cache\n",
    "directory in which to keep the reference files that will be used by the\n",
    "calibration pipeline.\n",
    "\n",
    "If the root directory for the local CRDS cache directory has not been set\n",
    "already, it will be set to create one in the home directory."
   ]
  },
  {
   "cell_type": "code",
   "execution_count": null,
   "id": "baf7070d",
   "metadata": {},
   "outputs": [],
   "source": [
    "# ------------------------Set CRDS context and paths----------------------\n",
    "\n",
    "# Set CRDS context (if overriding to use a specific version of reference\n",
    "# files; leave commented out to use latest reference files by default)\n",
    "#%env CRDS_CONTEXT  jwst_1281.pmap\n",
    "\n",
    "# Check whether the local CRDS cache directory has been set.\n",
    "# If not, set it to the user home directory\n",
    "if (os.getenv('CRDS_PATH') is None):\n",
    "    os.environ['CRDS_PATH'] = os.path.join(os.path.expanduser('~'), 'crds')\n",
    "# Check whether the CRDS server URL has been set.  If not, set it.\n",
    "if (os.getenv('CRDS_SERVER_URL') is None):\n",
    "    os.environ['CRDS_SERVER_URL'] = 'https://jwst-crds.stsci.edu'\n",
    "\n",
    "# Echo CRDS path in use\n",
    "print(f\"CRDS local filepath: {os.environ['CRDS_PATH']}\")\n",
    "print(f\"CRDS file server: {os.environ['CRDS_SERVER_URL']}\")"
   ]
  },
  {
   "cell_type": "markdown",
   "id": "575588c8",
   "metadata": {},
   "source": [
    "## Package Imports"
   ]
  },
  {
   "cell_type": "code",
   "execution_count": null,
   "id": "4415f6d9",
   "metadata": {},
   "outputs": [],
   "source": [
    "# Use the entire available screen width for this notebook\n",
    "from IPython.display import display, HTML\n",
    "display(HTML(\"<style>.container { width:95% !important; }</style>\"))"
   ]
  },
  {
   "cell_type": "code",
   "execution_count": null,
   "id": "fb9f7f54-ff98-428b-9fa9-b39c50210c3a",
   "metadata": {},
   "outputs": [],
   "source": [
    "# Basic system utilities for interacting with files\n",
    "# ----------------------General Imports------------------------------------\n",
    "import glob\n",
    "from pathlib import Path\n",
    "\n",
    "# Numpy for doing calculations\n",
    "import numpy as np\n",
    "\n",
    "# -----------------------Astroquery Imports--------------------------------\n",
    "# ASCII files, and downloading demo files\n",
    "from astroquery.mast import Observations\n",
    "\n",
    "# For visualizing images\n",
    "import matplotlib as mpl\n",
    "import matplotlib.pyplot as plt\n",
    "from matplotlib.patches import Circle\n",
    "\n",
    "# Use this version for non-interactive plots (easier scrolling of the notebook)\n",
    "%matplotlib inline\n",
    "\n",
    "# Use this version (outside of Jupyter Lab) if you want interactive plots\n",
    "# %matplotlib notebook\n",
    "\n",
    "# These gymnastics are needed to make the sizes of the figures\n",
    "# be the same in both the inline and notebook versions\n",
    "%config InlineBackend.print_figure_kwargs = {'bbox_inches': None}\n",
    "\n",
    "mpl.rcParams['savefig.dpi'] = 80\n",
    "mpl.rcParams['figure.dpi'] = 80\n",
    "\n",
    "# Astropy routines for visualizing detected sources:\n",
    "from astropy.io import fits\n",
    "from astropy.visualization import ImageNormalize, LinearStretch, LogStretch, ManualInterval\n",
    "\n",
    "#photutils\n",
    "from photutils.aperture import CircularAperture\n",
    "from photutils.aperture import aperture_photometry\n",
    "from  photutils.centroids import centroid_2dg\n",
    "\n",
    "# for JWST calibration pipeline\n",
    "import jwst\n",
    "from jwst.pipeline import Image3Pipeline\n",
    "import crds\n",
    "\n",
    "# JWST pipeline utilities\n",
    "from jwst import datamodels\n",
    "from jwst.associations import asn_from_list  # Tools for creating association files\n",
    "from jwst.associations.lib.rules_level3_base import DMS_Level3_Base  # Definition of a Lvl3 association file\n",
    "\n",
    "# Echo pipeline version and CRDS context in use\n",
    "print(f\"JWST Calibration Pipeline Version: {jwst.__version__}\")\n",
    "print(f\"Using CRDS Context: {crds.get_context_name('jwst')}\")"
   ]
  },
  {
   "cell_type": "markdown",
   "id": "a591adb5-8b3e-405c-92f7-de9e29b2fd9d",
   "metadata": {},
   "source": [
    "## Convenience Functions"
   ]
  },
  {
   "cell_type": "markdown",
   "id": "a72690f0-7aa9-422d-8abf-fb3e1c166dea",
   "metadata": {},
   "source": [
    "Here we define functions to streamline later actions in the notebook."
   ]
  },
  {
   "cell_type": "code",
   "execution_count": null,
   "id": "e4d55cb3-cc4a-47c6-9c7a-be5f375aedaa",
   "metadata": {},
   "outputs": [],
   "source": [
    "def measure_photometry(img, err, pixel_area_sq_arcsec, ap_radius=0.2, plot=False):\n",
    "    \"\"\"Given a 2D image with a single source, as well as a corresponding 2D error\n",
    "    array, perform aperture photometry on the source. Return the total signal and\n",
    "    error\n",
    "\n",
    "    Parameters\n",
    "    ----------\n",
    "    img : numpy.ndarray\n",
    "        2D array containing a single source\n",
    "\n",
    "    err : numpy.ndarray\n",
    "        2D error array associated with ``img``\n",
    "\n",
    "    pixel_area_sq_arcsec : float\n",
    "        The pixel area associated with ``img`` and ``err`` in\n",
    "        units of square arcseconds\n",
    "\n",
    "    ap_radius : float\n",
    "        Aperture radius for photometry. Units are arcseconds\n",
    "\n",
    "    plot : bool\n",
    "        Create an image of the source with circular aperture and\n",
    "        marked centroid location.\n",
    "\n",
    "    Returns\n",
    "    -------\n",
    "    flux : float\n",
    "        Photometric result. Total signal of the source\n",
    "        \n",
    "    flux_err : float\n",
    "        Uncertainty associated with the photometric result, obtained\n",
    "        using ``err``\n",
    "    \"\"\"    \n",
    "    # Convert pixel area to steradians\n",
    "    pixel_area_str = pixel_area_sq_arcsec * 2.3504e-11\n",
    "    \n",
    "    # Find the centroid of the star\n",
    "    centroid = centroid_2dg(img, err)\n",
    "\n",
    "    # Convert image and error arrays from MJy/sr to muJy \n",
    "    img_scaled = img * pixel_area_str * 1e12\n",
    "    err_scaled = err * pixel_area_str * 1e12\n",
    "    \n",
    "    # Define aperture\n",
    "    ap_radius_pix = ap_radius / np.sqrt(pixel_area_sq_arcsec)\n",
    "    aper = CircularAperture(centroid, ap_radius_pix)\n",
    "    \n",
    "    # Perform photometry\n",
    "    phot_table = aperture_photometry(img_scaled, aper, error=err_scaled)\n",
    "    flux = phot_table['aperture_sum'].value[0]\n",
    "    flux_err = phot_table['aperture_sum_err'].value[0]\n",
    "    \n",
    "    # Plot cutouts if desired\n",
    "    if plot:\n",
    "        fig,axes = plt.subplots(1, 2, figsize=(6,3), constrained_layout=True)\n",
    "        \n",
    "        axes[0].imshow(img, origin='lower', vmin=0, vmax=np.mean(img) + 3 * np.std(img))\n",
    "        axes[1].imshow(err, origin='lower')\n",
    "        \n",
    "        axes[0].text(.02, .98, \"SCI\", fontsize=18, color='white', fontweight='bold',\n",
    "                     horizontalalignment='left', verticalalignment='top', transform=axes[0].transAxes)\n",
    "        axes[1].text(.02, .98, \"ERR\", fontsize=18, color='white', fontweight='bold',\n",
    "                     horizontalalignment='left', verticalalignment='top', transform=axes[1].transAxes)\n",
    "        \n",
    "        axes[0].scatter(centroid[0], centroid[1], color='r', marker='+')\n",
    "        axes[1].scatter(centroid[0], centroid[1], color='r', marker='+')\n",
    "        \n",
    "        aper_patch = Circle(centroid, ap_radius_pix, edgecolor='white', facecolor='none', lw=3)\n",
    "        axes[0].add_patch(aper_patch)\n",
    "        \n",
    "        aper_patch = Circle(centroid, ap_radius_pix, edgecolor='white', facecolor='none', lw=3)\n",
    "        axes[1].add_patch(aper_patch)\n",
    "        \n",
    "        axes[0].set_xticks([])\n",
    "        axes[0].set_yticks([])\n",
    "        axes[1].set_xticks([])\n",
    "        axes[1].set_yticks([])\n",
    "        \n",
    "        plt.show()\n",
    "        \n",
    "    return flux, flux_err"
   ]
  },
  {
   "cell_type": "code",
   "execution_count": null,
   "id": "1aa680ad-0c1a-468e-9be2-1c3e9c8ba586",
   "metadata": {},
   "outputs": [],
   "source": [
    "def plot_photometry_results(fluxes, old_errors, scaled_errors):\n",
    "    \"\"\"Plot the results from performing photometry on the two differently-scaled mosaic images\n",
    "\n",
    "    Parameters\n",
    "    ----------\n",
    "    fluxes : list\n",
    "        List of fluxes from photometry. Should be one value for each of the two output pixel scales\n",
    "\n",
    "    old_errors : list\n",
    "        Uncertainties from the photometry. Should be one value for each of the two output pixel scales\n",
    "\n",
    "    scaled_errors : list\n",
    "        Uncertainties from the photometry, after scaling. Should be one value for each of the two output\n",
    "        pixel scales.\n",
    "    \"\"\"\n",
    "    fig, ax = plt.subplots()\n",
    "    x_values = [0, 1, 4, 5]\n",
    "    ax.scatter([0, 4], [fluxes[0]]*2, facecolor='dodgerblue', edgecolor='darkblue', lw=2, marker='o', s=150, label=\"30mas\")\n",
    "    ax.scatter([1, 5], [fluxes[1]]*2, facecolor='red', edgecolor='darkred', lw=2, marker='o', s=150, label=\"60mas\")\n",
    "    ax.errorbar([0, 1], fluxes, old_errors, color='darkblue', lw=2, capsize=5, fmt=\"None\")\n",
    "    ax.errorbar([4, 5], fluxes, scaled_errors, color='darkblue', lw=2, capsize=5, fmt=\"None\")\n",
    "        \n",
    "    #finish up plot:\n",
    "    ax.set_xticks([0.5, 4.5],['Before Scaling', 'After Scaling'])\n",
    "    ax.tick_params(labelsize=12)\n",
    "    ax.set_ylabel(r\"Flux Density (${\\rm \\mu}$Jy)\", fontsize=14)\n",
    "    ax.set_xlim(-1, 6)\n",
    "    \n",
    "    ax.legend(fontsize=14)\n",
    "    plt.tight_layout()\n",
    "    plt.show()\n"
   ]
  },
  {
   "cell_type": "code",
   "execution_count": null,
   "id": "e824caaf-3c48-418a-b1c2-d508c238bb08",
   "metadata": {},
   "outputs": [],
   "source": [
    "def scale_err(err_value, native_scale, new_scale):\n",
    "    \"\"\"Scale the input ERR value by the ratio of the native to the new pixel scale.\n",
    "    This is the correction to apply to the ERR extension of the i2d files in order\n",
    "    to have the values behave as expected.\n",
    "\n",
    "    Parameters\n",
    "    ----------\n",
    "    err_value : float\n",
    "        ERR value from i2d file\n",
    "\n",
    "    native_scale : float\n",
    "        The native pixel scale for the detector. Units are arcseconds per pixel.\n",
    "\n",
    "    new_scale : float\n",
    "        New pixel scale to which the data were resampled. Units are arcseconds per pixel.\n",
    "\n",
    "    Returns\n",
    "    -------\n",
    "    value : float\n",
    "        Updated ``err_val``, scaled by the ratio of the pixel scales\n",
    "    \n",
    "    \"\"\"\n",
    "    return err_value * (native_scale / new_scale)"
   ]
  },
  {
   "cell_type": "code",
   "execution_count": null,
   "id": "6e1afde3-3f3b-407c-9188-a1485318ad68",
   "metadata": {},
   "outputs": [],
   "source": [
    "def show_image(data_2d, vmin, vmax, xpixel=None, ypixel=None, title=None,\n",
    "               scale='log', units='MJy/str'):\n",
    "    \"\"\"Function to generate a 2D, log-scaled image of the data, \n",
    "    with an option to highlight a specific pixel.\n",
    "    \n",
    "    data_2d : numpy.ndarray\n",
    "        2D image to be displayed\n",
    "        \n",
    "    vmin : float\n",
    "        Minimum signal value to use for scaling\n",
    "        \n",
    "    vmax : float\n",
    "        Maximum signal value to use for scaling\n",
    "        \n",
    "    xpixel : int\n",
    "        X-coordinate of pixel to highlight\n",
    "        \n",
    "    ypixel : int\n",
    "        Y-coordinate of pixel to highlight\n",
    "        \n",
    "    title : str\n",
    "        String to use for the plot title\n",
    "        \n",
    "    scale : str\n",
    "        Specify scaling of the image. Can be 'log' or 'linear'\n",
    "        \n",
    "    units : str\n",
    "        Units of the data. Used for the annotation in the\n",
    "        color bar\n",
    "    \"\"\"\n",
    "    if scale == 'log':\n",
    "        norm = ImageNormalize(data_2d, interval=ManualInterval(vmin=vmin, vmax=vmax),\n",
    "                              stretch=LogStretch())\n",
    "    elif scale == 'linear':\n",
    "        norm = ImageNormalize(data_2d, interval=ManualInterval(vmin=vmin, vmax=vmax),\n",
    "                              stretch=LinearStretch())\n",
    "    fig = plt.figure(figsize=(8, 8))\n",
    "    ax = fig.add_subplot(1, 1, 1)\n",
    "    im = ax.imshow(data_2d, origin='lower', norm=norm)\n",
    "    \n",
    "    if xpixel and ypixel:\n",
    "        plt.plot(xpixel, ypixel, marker='o', color='red', label='Selected Pixel')\n",
    "\n",
    "    fig.colorbar(im, label=units)\n",
    "    plt.xlabel('Pixel column')\n",
    "    plt.ylabel('Pixel row')\n",
    "    if title:\n",
    "        plt.title(title)"
   ]
  },
  {
   "cell_type": "markdown",
   "id": "7ef8050f",
   "metadata": {},
   "source": [
    "## Download Data"
   ]
  },
  {
   "cell_type": "markdown",
   "id": "e96f182c-cf63-4f82-b5a7-0285be9c21e3",
   "metadata": {},
   "source": [
    "------------------\n",
    "Retrieve the calibrated data automatically from MAST using\n",
    "[astroquery](https://astroquery.readthedocs.io/en/latest/mast/mast.html).\n",
    "MAST allows for flexibility of searching by the proposal ID and the\n",
    "observation ID instead of just filenames.<br>\n",
    "\n",
    "For illustrative purposes, we focus on data taken using the NIRCam\n",
    "[F200W filter](https://jwst-docs.stsci.edu/jwst-near-infrared-camera/nircam-instrumentation/nircam-filters).\n",
    "The files are named\n",
    "`jw02739001002_02105_0000<dither>_nrca2_uncal.fits`, where *dither* refers to the\n",
    " dither step number. \n",
    " \n",
    "More information about the JWST file naming conventions can be found at:\n",
    "https://jwst-pipeline.readthedocs.io/en/latest/jwst/data_products/file_naming.html"
   ]
  },
  {
   "cell_type": "code",
   "execution_count": null,
   "id": "8d595f1e-2590-4f01-bb92-13bb43a22b3c",
   "metadata": {},
   "outputs": [],
   "source": [
    "# Set up the program information\n",
    "\n",
    "program = '02739'\n",
    "sci_observtn = \"001\"\n",
    "    \n",
    "data_dir = os.path.join('.', 'nrc_im_demo_data')\n",
    "download_dir = data_dir\n",
    "        \n",
    "# Create directory if it does not exist\n",
    "if not os.path.isdir(data_dir):\n",
    "    os.mkdir(data_dir)"
   ]
  },
  {
   "cell_type": "markdown",
   "id": "6674a8b8",
   "metadata": {},
   "source": [
    "Identify list of example calibrated files (*_cal.fits) to download."
   ]
  },
  {
   "cell_type": "code",
   "execution_count": null,
   "id": "a4b22375",
   "metadata": {},
   "outputs": [],
   "source": [
    "# Obtain a list of observation IDs for the specified program\n",
    "\n",
    "sci_obs_id_table = Observations.query_criteria(instrument_name=[\"NIRCAM/IMAGE\"],\n",
    "                                               provenance_name=[\"CALJWST\"],  # Executed observations\n",
    "                                               filters=['F200W'],  # Data for Specific Filter\n",
    "                                               obs_id=['jw' + program + '-o' + sci_observtn + '*']\n",
    "                                               )"
   ]
  },
  {
   "cell_type": "code",
   "execution_count": null,
   "id": "3aa123f1-be6a-4be8-8e6d-daffc6514098",
   "metadata": {},
   "outputs": [],
   "source": [
    "sci_obs_id_table"
   ]
  },
  {
   "cell_type": "code",
   "execution_count": null,
   "id": "a666350e",
   "metadata": {},
   "outputs": [],
   "source": [
    "# Turn the list of visits into a list of calibrated data files\n",
    "\n",
    "# Define types of files to select\n",
    "file_dict = {'uncal': {'product_type': 'SCIENCE',\n",
    "                       'productSubGroupDescription': 'CAL',\n",
    "                       'calib_level': [2]}}\n",
    "\n",
    "# Science files\n",
    "sci_files_to_download = []\n",
    "# Loop over visits identifying uncalibrated files that are associated\n",
    "# with them\n",
    "for exposure in (sci_obs_id_table):\n",
    "    products = Observations.get_product_list(exposure)\n",
    "    for filetype, query_dict in file_dict.items():\n",
    "        filtered_products = Observations.filter_products(products, productType=query_dict['product_type'],\n",
    "                                                         productSubGroupDescription=query_dict['productSubGroupDescription'],\n",
    "                                                         calib_level=query_dict['calib_level'])\n",
    "        sci_files_to_download.extend(filtered_products['dataURI'])\n",
    "\n",
    "# To limit data volume, keep only files from visit 002, dithers 1 and 2, and only detector NRCA2\n",
    "sw_sci_files_to_download = [fname for fname in sci_files_to_download if 'jw02739001002_02105' in fname and \\\n",
    "                            ('nrca2' in fname) and ('00001' in fname or '00002' in fname)]\n",
    "sw_sci_files_to_download = sorted(sw_sci_files_to_download)\n",
    "print(f\"Science files selected for downloading: {len(sw_sci_files_to_download)}\")"
   ]
  },
  {
   "cell_type": "code",
   "execution_count": null,
   "id": "4ed1e7d5-4f12-47f0-b43e-764c37943644",
   "metadata": {},
   "outputs": [],
   "source": [
    "sw_sci_files_to_download"
   ]
  },
  {
   "cell_type": "markdown",
   "id": "c36a54be",
   "metadata": {},
   "source": [
    "Download the files.\n",
    "\n",
    "<div class=\"alert alert-block alert-warning\">\n",
    "Warning: If this notebook is halted during this step the downloaded file\n",
    "may be incomplete, and cause crashes later on!\n",
    "</div>"
   ]
  },
  {
   "cell_type": "code",
   "execution_count": null,
   "id": "764fa682",
   "metadata": {},
   "outputs": [],
   "source": [
    "# Download the data if it does not already exist\n",
    "for filename in sw_sci_files_to_download:\n",
    "    sci_manifest = Observations.download_file(filename,\n",
    "                                              local_path=os.path.join(data_dir, Path(filename).name))"
   ]
  },
  {
   "cell_type": "markdown",
   "id": "7cfbb244-7af9-4cbf-90d9-08598378c16a",
   "metadata": {},
   "source": [
    "## Image3 Pipeline"
   ]
  },
  {
   "cell_type": "markdown",
   "id": "7e775d5b-b060-4c1b-a2e3-f958c52a34d4",
   "metadata": {},
   "source": [
    "In the [Image3 stage of the pipeline](https://jwst-pipeline.readthedocs.io/en/latest/jwst/pipeline/calwebb_image3.html), the individual `*_cal.fits` files are combined into one single distortion corrected image. \n",
    "\n",
    "First, we need to create an [Association file](https://jwst-pipeline.readthedocs.io/en/latest/jwst/associations/overview.html), in order to tell the pipeline which files to work on."
   ]
  },
  {
   "cell_type": "markdown",
   "id": "e10da872-21ae-46c2-a3b1-f9cdefae3b36",
   "metadata": {},
   "source": [
    "Find and sort all of the input files, ensuring use of absolute paths."
   ]
  },
  {
   "cell_type": "code",
   "execution_count": null,
   "id": "5f0b5b47-62e9-4593-abc4-7ec630492e96",
   "metadata": {},
   "outputs": [],
   "source": [
    "# Get a list of the *_cal.fits files\n",
    "sw_sstring = os.path.join(data_dir, 'jw*nrc??_cal.fits')\n",
    "sw_cal_files = sorted(glob.glob(sw_sstring))\n",
    "\n",
    "# Expand the relative paths into absolute paths\n",
    "sw_cal_files = [os.path.abspath(fname) for fname in sw_cal_files]\n",
    "\n",
    "print(f'Found {len(sw_cal_files)} shortwave science files to process')"
   ]
  },
  {
   "cell_type": "code",
   "execution_count": null,
   "id": "e6550a4a-f924-410b-a945-effcef431e88",
   "metadata": {},
   "outputs": [],
   "source": [
    "sw_cal_files"
   ]
  },
  {
   "cell_type": "markdown",
   "id": "db5cb6f5-44a1-4f28-95dc-b23a97451465",
   "metadata": {},
   "source": [
    "### Create Association File\n",
    "\n",
    "An association file lists the files to calibrate together in `Stage 3` of the pipeline.\n",
    "\n",
    "Note that the output products (the mosaic and source catalog) will have a rootname that is specified by the `product_name` in the association file. Because of this, we'll create two association files: one for each pixel scale we are resampling to. The product name for the two cases will be different.'\n",
    "\n",
    "<div class=\"alert alert-block alert-warning\">\n",
    "Note: The cell below may produce a warning about using full paths in association file entries. Generally, this should be ok, and the pipeline will work as expected.\n",
    "</div>"
   ]
  },
  {
   "cell_type": "code",
   "execution_count": null,
   "id": "1b31f80f-8d7b-45ae-8537-15d0208637df",
   "metadata": {
    "scrolled": true
   },
   "outputs": [],
   "source": [
    "# Create Level 3 Associations\n",
    "\n",
    "# For the 0.03\"/pixel case\n",
    "product_name_0p3 = 'image3_0p3'\n",
    "association = asn_from_list.asn_from_list(sw_cal_files,\n",
    "                                          rule=DMS_Level3_Base,\n",
    "                                          product_name=product_name_0p3)\n",
    "    \n",
    "association.data['asn_type'] = 'image3'\n",
    "association.data['program'] = program\n",
    "    \n",
    "# Format association as .json file\n",
    "asn_filename_0p3, serialized_0p3 = association.dump(format=\"json\")\n",
    "\n",
    "# Write out association file\n",
    "association_im3_0p3 = os.path.join(data_dir, asn_filename_0p3)\n",
    "with open(association_im3_0p3, \"w\") as fd:\n",
    "    fd.write(serialized_0p3)"
   ]
  },
  {
   "cell_type": "code",
   "execution_count": null,
   "id": "6a2b7800-5b15-46c0-8b66-3c22aac3218b",
   "metadata": {},
   "outputs": [],
   "source": [
    "# Create a Level 3 Association for the 0.06\"/pixel case\n",
    "product_name_0p6 = 'image3_0p6'\n",
    "association = asn_from_list.asn_from_list(sw_cal_files,\n",
    "                                          rule=DMS_Level3_Base,\n",
    "                                          product_name=product_name_0p6)\n",
    "    \n",
    "association.data['asn_type'] = 'image3'\n",
    "association.data['program'] = program\n",
    "    \n",
    "# Format association as .json file\n",
    "asn_filename_0p6, serialized_0p6 = association.dump(format=\"json\")\n",
    "\n",
    "# Write out association file\n",
    "association_im3_0p6 = os.path.join(data_dir, asn_filename_0p6)\n",
    "with open(association_im3_0p6, \"w\") as fd:\n",
    "    fd.write(serialized_0p6)"
   ]
  },
  {
   "cell_type": "markdown",
   "id": "629cad5b-e5a7-473e-8583-ad12cda55fa4",
   "metadata": {},
   "source": [
    "### Run Image3 stage of the pipeline"
   ]
  },
  {
   "cell_type": "markdown",
   "id": "886ded17-13e6-4f65-9b4a-f2f29a1dd205",
   "metadata": {},
   "source": [
    "We'll call the Image3 pipeline twice. First, we will create a final mosaic image with a pixel scale of 0.03\"/pixel, which is very close to the native pixel scale of ~0.031\"/pixel. The second call to the Image3 pipeline will create a final mosaic image with a pixel scale of 0.06\"/pixel."
   ]
  },
  {
   "cell_type": "code",
   "execution_count": null,
   "id": "fee248b5-0881-4d5c-afcb-be0bbdcfb62f",
   "metadata": {},
   "outputs": [],
   "source": [
    "# Set up a dictionary for the first call to the pipeline. In this case,\n",
    "# we'll resample the output onto a 0.03 arcsec/pixel grid. By setting\n",
    "# the pixel_scale parameter, we can control the pixel scale of the output.\n",
    "\n",
    "image3dict_0p3 = {}\n",
    "image3dict_0p3['resample'] = {}\n",
    "image3dict_0p3['resample']['pixel_scale'] = 0.03  # arcsec"
   ]
  },
  {
   "cell_type": "code",
   "execution_count": null,
   "id": "a9e6966f-05f5-4b1f-99a8-52cb440b56f4",
   "metadata": {},
   "outputs": [],
   "source": [
    "# Set up a dictionary for the second call to the pipeline. Here,\n",
    "# we'll resample the output onto a 0.06 arcsec/pixel grid.\n",
    "\n",
    "image3dict_0p6 = {}\n",
    "image3dict_0p6['resample'] = {}\n",
    "image3dict_0p6['resample']['pixel_scale'] = 0.06  # arcsec"
   ]
  },
  {
   "cell_type": "code",
   "execution_count": null,
   "id": "e0cebfd8-a650-41a3-8ff0-a8fd43e079d6",
   "metadata": {
    "scrolled": true
   },
   "outputs": [],
   "source": [
    "# Run Stage 3. We'll call it once for each output pixel scale.\n",
    "i2d_0p3 = Image3Pipeline.call(association_im3_0p3, output_dir=data_dir, steps=image3dict_0p3, save_results=True)\n",
    "i2d_0p6 = Image3Pipeline.call(association_im3_0p6, output_dir=data_dir, steps=image3dict_0p6, save_results=True)"
   ]
  },
  {
   "cell_type": "code",
   "execution_count": null,
   "id": "0d3b0193-fe37-4919-9be2-bc0e9a91e405",
   "metadata": {},
   "outputs": [],
   "source": [
    "# Read in the output mosaic files\n",
    "i2d_file_0p3 = os.path.join(data_dir, f'{product_name_0p3}_i2d.fits')\n",
    "i2d_file_0p6 = os.path.join(data_dir, f'{product_name_0p6}_i2d.fits')\n",
    "\n",
    "i2d_model_0p3 = datamodels.open(i2d_file_0p3)\n",
    "i2d_model_0p6 = datamodels.open(i2d_file_0p6)"
   ]
  },
  {
   "cell_type": "markdown",
   "id": "0dbeb68d-eb65-42f2-94d1-4c5bfdfa1c1a",
   "metadata": {},
   "source": [
    "## Examine the Mosaics"
   ]
  },
  {
   "cell_type": "markdown",
   "id": "4d74ac58-f68e-4acd-98ad-6b9e7e2b1bae",
   "metadata": {},
   "source": [
    "Take a look at the resulting mosaics. Looking at the entire mosaic in these small figures, they should look identical."
   ]
  },
  {
   "cell_type": "code",
   "execution_count": null,
   "id": "6e65050b-c14f-489b-b11d-1b518f15bf14",
   "metadata": {},
   "outputs": [],
   "source": [
    "show_image(i2d_model_0p3.data, 0., 50, xpixel=None, ypixel=None, title=None,\n",
    "               scale='log', units='MJy/str')"
   ]
  },
  {
   "cell_type": "code",
   "execution_count": null,
   "id": "375e61e8-9427-401f-a24b-31da78825277",
   "metadata": {},
   "outputs": [],
   "source": [
    "show_image(i2d_model_0p6.data, 0., 50, xpixel=None, ypixel=None, title=None,\n",
    "               scale='log', units='MJy/str')"
   ]
  },
  {
   "cell_type": "markdown",
   "id": "4b490f06-84fb-4502-a3ea-ff56cbdcd2e2",
   "metadata": {},
   "source": [
    "## Run Photometry"
   ]
  },
  {
   "cell_type": "markdown",
   "id": "36d616b8-706c-470a-b875-5d21613c5d28",
   "metadata": {},
   "source": [
    "Now, for both pixel scale mosaics, we'll pick out a single source and measure its brightness and associated error. Ideally we would see the same brightness and error regardless of pixel scale. But if the issue with performing photometry using the ERR values is present, we'll see identical brightness values but the associated error for the 0.06\"/pixel case will be double that for the 0.03\"/pixel case.\n",
    "\n",
    "**Note that the first step of the photometry routine will convert the input data from units of MJy/sr to uJy, by multiplying by the resampled pixel scale and a factor of 1e12. This is separate from the scaling correction we will apply later.**\n",
    "\n",
    "Using the coordinates below, we'll supply a cutout around our star to the photometry routine."
   ]
  },
  {
   "cell_type": "code",
   "execution_count": null,
   "id": "9dce4a7f-b981-4131-9b59-6a7ba86e6c5a",
   "metadata": {},
   "outputs": [],
   "source": [
    "# First the 0.03\"/pixel case.\n",
    "xstart_0p3, xend_0p3 = 1135, 1165\n",
    "ystart_0p3, yend_0p3 = 575, 602\n",
    "i2d_0p3_flux, i2d_0p3_err = measure_photometry(i2d_model_0p3.data[ystart_0p3:yend_0p3, xstart_0p3:xend_0p3],\n",
    "                                               i2d_model_0p3.err[ystart_0p3:yend_0p3, xstart_0p3:xend_0p3],\n",
    "                                               i2d_model_0p3.meta.photometry.pixelarea_arcsecsq,\n",
    "                                               ap_radius=0.2, plot=True)"
   ]
  },
  {
   "cell_type": "code",
   "execution_count": null,
   "id": "6ea27502-a62d-457f-9842-4938a75c3d4f",
   "metadata": {},
   "outputs": [],
   "source": [
    "# Print the photometry results. Brightness and error.\n",
    "i2d_0p3_flux, i2d_0p3_err"
   ]
  },
  {
   "cell_type": "code",
   "execution_count": null,
   "id": "d9de5db5-b532-4a16-b0de-51c701167f41",
   "metadata": {},
   "outputs": [],
   "source": [
    "# Next, look at the same source in the 0.06\"/pixel case.\n",
    "# In this view, the larger pixel scale is obvious.\n",
    "xstart_0p6, xend_0p6 = 567, 582\n",
    "ystart_0p6, yend_0p6 = 287, 301\n",
    "i2d_0p6_flux, i2d_0p6_err = measure_photometry(i2d_model_0p6.data[ystart_0p6:yend_0p6, xstart_0p6:xend_0p6],\n",
    "                                               i2d_model_0p6.err[ystart_0p6:yend_0p6, xstart_0p6:xend_0p6],\n",
    "                                               i2d_model_0p6.meta.photometry.pixelarea_arcsecsq,\n",
    "                                               ap_radius=0.2, plot=True)"
   ]
  },
  {
   "cell_type": "code",
   "execution_count": null,
   "id": "e00b7cb2-ad3d-4d51-a5aa-36b7f440435c",
   "metadata": {},
   "outputs": [],
   "source": [
    "# Print the photometry results for the 0.06\"/pixel case.\n",
    "# Compare the error value to that from the 0.03\"/pixel case above.\n",
    "i2d_0p6_flux, i2d_0p6_err"
   ]
  },
  {
   "cell_type": "markdown",
   "id": "7471d98c-7b8d-4558-bfe9-4db4bdaa65ab",
   "metadata": {},
   "source": [
    "## Correct the ERR values "
   ]
  },
  {
   "cell_type": "markdown",
   "id": "fb5dc25b-c8e7-4655-93fc-232564be867f",
   "metadata": {},
   "source": [
    "Note how for the two pixel scales, the measured flux of the star is essentially the same, as expected, but the error is larger by about a factor of 2 in the 0.06 \"/pixel image. This is due to the way the error array was defined. While the science array gives the same brightness independent of pixel scale, the error decreases with decreasing pixel scale. In order to correct this behavior, we need to scale the error values by the ratio of the detector's native pixel scale to the pixel scale of the output image. <b>This implies that outputs from the pipeline where the pixel scale has not been changed from the native pixel scale do not require this correction.</b>"
   ]
  },
  {
   "cell_type": "code",
   "execution_count": null,
   "id": "7a15db89-0d88-4670-a827-7f657dcceaec",
   "metadata": {},
   "outputs": [],
   "source": [
    "native_pixel_scale = np.sqrt(fits.getheader(sw_cal_files[0], 'SCI')['PIXAR_A2'])\n",
    "native_pixel_scale"
   ]
  },
  {
   "cell_type": "code",
   "execution_count": null,
   "id": "24e862f8-70b6-40ac-9c31-7026753f4d8f",
   "metadata": {},
   "outputs": [],
   "source": [
    "new_0p3_err = scale_err(i2d_0p3_err, native_pixel_scale, 0.03)\n",
    "new_0p6_err = scale_err(i2d_0p6_err, native_pixel_scale, 0.06)"
   ]
  },
  {
   "cell_type": "markdown",
   "id": "10b7c71b-acf3-4afa-8559-fee517970a2f",
   "metadata": {},
   "source": [
    "Compare the old and new uncertainty values"
   ]
  },
  {
   "cell_type": "code",
   "execution_count": null,
   "id": "a674befe-0ee9-432c-be46-b0a48fea4a95",
   "metadata": {},
   "outputs": [],
   "source": [
    "# Old uncertainties at 0.03\"/pix and 0.06\"/pix\n",
    "i2d_0p3_err, i2d_0p6_err"
   ]
  },
  {
   "cell_type": "code",
   "execution_count": null,
   "id": "51f8194d-8a9b-47dd-abf4-e926a900483e",
   "metadata": {},
   "outputs": [],
   "source": [
    "# Scaled uncertainties at 0.03\"/pix and 0.06\"/pix\n",
    "new_0p3_err, new_0p6_err"
   ]
  },
  {
   "cell_type": "markdown",
   "id": "b26555d9-dd66-401f-9609-1e6ce11183d9",
   "metadata": {},
   "source": [
    "After scaling, the ERR values match and are independent of pixel scale."
   ]
  },
  {
   "cell_type": "markdown",
   "id": "86175ee6-4637-4c35-896a-ec844899734b",
   "metadata": {},
   "source": [
    "### Plot the photometry results before and after the rescaling."
   ]
  },
  {
   "cell_type": "code",
   "execution_count": null,
   "id": "a73415df-1690-4b3a-827c-f7665047c5a8",
   "metadata": {},
   "outputs": [],
   "source": [
    "plot_photometry_results([i2d_0p3_flux, i2d_0p6_flux], [i2d_0p3_err, i2d_0p6_err], [new_0p3_err, new_0p6_err])"
   ]
  },
  {
   "cell_type": "markdown",
   "id": "bd79d57a-374d-409b-a98a-166cfd19b6d4",
   "metadata": {},
   "source": [
    "After scaling (seen on the right half of the plot), the error bar lengths are independent of the pixel scale of the mosaic image, as expected."
   ]
  },
  {
   "cell_type": "markdown",
   "id": "3918ceab-9bd0-498f-8837-9cd3feeaef16",
   "metadata": {},
   "source": [
    "<img style=\"float: center;\" src='https://github.com/spacetelescope/jwst-pipeline-notebooks/raw/main/_static/stsci_footer.png' alt=\"stsci_logo\" width=\"400px\"/> "
   ]
  }
 ],
 "metadata": {
  "kernelspec": {
   "display_name": "Python 3 (ipykernel)",
   "language": "python",
   "name": "python3"
  },
  "language_info": {
   "codemirror_mode": {
    "name": "ipython",
    "version": 3
   },
   "file_extension": ".py",
   "mimetype": "text/x-python",
   "name": "python",
   "nbconvert_exporter": "python",
   "pygments_lexer": "ipython3",
   "version": "3.11.10"
  }
 },
 "nbformat": 4,
 "nbformat_minor": 5
}
